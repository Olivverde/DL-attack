{
 "cells": [
  {
   "cell_type": "code",
   "execution_count": 85,
   "id": "121bc857",
   "metadata": {},
   "outputs": [],
   "source": [
    "import tensorflow as tf\n",
    "from tensorflow.keras.layers import Conv2D, MaxPool2D, Dense, Flatten\n",
    "import numpy as np\n",
    "import matplotlib.pyplot as plt\n",
    "import matplotlib\n",
    "from art.estimators.classification import KerasClassifier #No soporta TF 2\n",
    "from art.attacks.evasion import FastGradientMethod\n",
    "from art.utils import load_dataset\n",
    "\n",
    "# Disabling eager execution from TF 2\n",
    "tf.compat.v1.disable_eager_execution()"
   ]
  },
  {
   "cell_type": "code",
   "execution_count": 86,
   "id": "b75b4c4f",
   "metadata": {},
   "outputs": [],
   "source": [
    "vulnerable_model = tf.keras.models.load_model(\"modelo_victima1\")"
   ]
  },
  {
   "cell_type": "code",
   "execution_count": 87,
   "id": "bc852298",
   "metadata": {},
   "outputs": [],
   "source": [
    "(train_images, train_labels), (test_images, test_labels), min, max = load_dataset(name=\"mnist\")"
   ]
  },
  {
   "cell_type": "code",
   "execution_count": 88,
   "id": "7b719247",
   "metadata": {},
   "outputs": [
    {
     "name": "stdout",
     "output_type": "stream",
     "text": [
      "min:  0.0\n",
      "max:  1.0\n",
      "train_images.shape:  (60000, 28, 28, 1)\n",
      "train_labels.shape:  (60000, 10)\n",
      "test_images.shape:  (10000, 28, 28, 1)\n",
      "test_labels.shape:  (10000, 10)\n"
     ]
    }
   ],
   "source": [
    "print(\"min: \", min)\n",
    "print(\"max: \", max)\n",
    "print(\"train_images.shape: \", train_images.shape)\n",
    "print(\"train_labels.shape: \", train_labels.shape)\n",
    "print(\"test_images.shape: \", test_images.shape)\n",
    "print(\"test_labels.shape: \", test_labels.shape)"
   ]
  },
  {
   "cell_type": "code",
   "execution_count": 89,
   "id": "0bf8e251",
   "metadata": {},
   "outputs": [],
   "source": [
    "clasificador = KerasClassifier(\n",
    "    model=vulnerable_model,\n",
    "    clip_values=(min, max))"
   ]
  },
  {
   "attachments": {},
   "cell_type": "markdown",
   "id": "f48531f5",
   "metadata": {},
   "source": [
    "<h1>Ataque de Evasión</h1>"
   ]
  },
  {
   "cell_type": "code",
   "execution_count": 90,
   "id": "5a44a37c",
   "metadata": {},
   "outputs": [],
   "source": [
    "#Ataque usando Gradiente Descendiente para generar imagenes adversariales\n",
    "#Epsilon define que tan fuerte será el ataque:\n",
    "#Debe haber un equilibrio entre la fuerza del ataque y la detección a simple vista que permita detectar que una imagen fue atacada\n",
    "\n",
    "attack_fgsm = FastGradientMethod(\n",
    "    estimator=clasificador, \n",
    "    eps=0.3\n",
    "    )"
   ]
  },
  {
   "cell_type": "code",
   "execution_count": 109,
   "id": "59a3f62e",
   "metadata": {},
   "outputs": [
    {
     "name": "stdout",
     "output_type": "stream",
     "text": [
      "test_images[0]:  [[[0.        ]\n",
      "  [0.        ]\n",
      "  [0.        ]\n",
      "  [0.        ]\n",
      "  [0.        ]\n",
      "  [0.        ]\n",
      "  [0.        ]\n",
      "  [0.        ]\n",
      "  [0.        ]\n",
      "  [0.        ]\n",
      "  [0.        ]\n",
      "  [0.        ]\n",
      "  [0.        ]\n",
      "  [0.        ]\n",
      "  [0.        ]\n",
      "  [0.        ]\n",
      "  [0.        ]\n",
      "  [0.        ]\n",
      "  [0.        ]\n",
      "  [0.        ]\n",
      "  [0.        ]\n",
      "  [0.        ]\n",
      "  [0.        ]\n",
      "  [0.        ]\n",
      "  [0.        ]\n",
      "  [0.        ]\n",
      "  [0.        ]\n",
      "  [0.        ]]\n",
      "\n",
      " [[0.        ]\n",
      "  [0.        ]\n",
      "  [0.        ]\n",
      "  [0.        ]\n",
      "  [0.        ]\n",
      "  [0.        ]\n",
      "  [0.        ]\n",
      "  [0.        ]\n",
      "  [0.        ]\n",
      "  [0.        ]\n",
      "  [0.        ]\n",
      "  [0.        ]\n",
      "  [0.        ]\n",
      "  [0.        ]\n",
      "  [0.        ]\n",
      "  [0.        ]\n",
      "  [0.        ]\n",
      "  [0.        ]\n",
      "  [0.        ]\n",
      "  [0.        ]\n",
      "  [0.        ]\n",
      "  [0.        ]\n",
      "  [0.        ]\n",
      "  [0.        ]\n",
      "  [0.        ]\n",
      "  [0.        ]\n",
      "  [0.        ]\n",
      "  [0.        ]]\n",
      "\n",
      " [[0.        ]\n",
      "  [0.        ]\n",
      "  [0.        ]\n",
      "  [0.        ]\n",
      "  [0.        ]\n",
      "  [0.        ]\n",
      "  [0.        ]\n",
      "  [0.        ]\n",
      "  [0.        ]\n",
      "  [0.        ]\n",
      "  [0.        ]\n",
      "  [0.        ]\n",
      "  [0.        ]\n",
      "  [0.        ]\n",
      "  [0.        ]\n",
      "  [0.        ]\n",
      "  [0.        ]\n",
      "  [0.        ]\n",
      "  [0.        ]\n",
      "  [0.        ]\n",
      "  [0.        ]\n",
      "  [0.        ]\n",
      "  [0.        ]\n",
      "  [0.        ]\n",
      "  [0.        ]\n",
      "  [0.        ]\n",
      "  [0.        ]\n",
      "  [0.        ]]\n",
      "\n",
      " [[0.        ]\n",
      "  [0.        ]\n",
      "  [0.        ]\n",
      "  [0.        ]\n",
      "  [0.        ]\n",
      "  [0.        ]\n",
      "  [0.        ]\n",
      "  [0.        ]\n",
      "  [0.        ]\n",
      "  [0.        ]\n",
      "  [0.        ]\n",
      "  [0.        ]\n",
      "  [0.        ]\n",
      "  [0.        ]\n",
      "  [0.        ]\n",
      "  [0.        ]\n",
      "  [0.        ]\n",
      "  [0.        ]\n",
      "  [0.        ]\n",
      "  [0.        ]\n",
      "  [0.        ]\n",
      "  [0.        ]\n",
      "  [0.        ]\n",
      "  [0.        ]\n",
      "  [0.        ]\n",
      "  [0.        ]\n",
      "  [0.        ]\n",
      "  [0.        ]]\n",
      "\n",
      " [[0.        ]\n",
      "  [0.        ]\n",
      "  [0.        ]\n",
      "  [0.        ]\n",
      "  [0.        ]\n",
      "  [0.        ]\n",
      "  [0.        ]\n",
      "  [0.        ]\n",
      "  [0.        ]\n",
      "  [0.        ]\n",
      "  [0.        ]\n",
      "  [0.        ]\n",
      "  [0.        ]\n",
      "  [0.        ]\n",
      "  [0.        ]\n",
      "  [0.        ]\n",
      "  [0.        ]\n",
      "  [0.        ]\n",
      "  [0.        ]\n",
      "  [0.        ]\n",
      "  [0.        ]\n",
      "  [0.        ]\n",
      "  [0.        ]\n",
      "  [0.        ]\n",
      "  [0.        ]\n",
      "  [0.        ]\n",
      "  [0.        ]\n",
      "  [0.        ]]\n",
      "\n",
      " [[0.        ]\n",
      "  [0.        ]\n",
      "  [0.        ]\n",
      "  [0.        ]\n",
      "  [0.        ]\n",
      "  [0.        ]\n",
      "  [0.        ]\n",
      "  [0.        ]\n",
      "  [0.        ]\n",
      "  [0.        ]\n",
      "  [0.        ]\n",
      "  [0.        ]\n",
      "  [0.        ]\n",
      "  [0.        ]\n",
      "  [0.        ]\n",
      "  [0.        ]\n",
      "  [0.        ]\n",
      "  [0.        ]\n",
      "  [0.        ]\n",
      "  [0.        ]\n",
      "  [0.        ]\n",
      "  [0.        ]\n",
      "  [0.        ]\n",
      "  [0.        ]\n",
      "  [0.        ]\n",
      "  [0.        ]\n",
      "  [0.        ]\n",
      "  [0.        ]]\n",
      "\n",
      " [[0.        ]\n",
      "  [0.        ]\n",
      "  [0.        ]\n",
      "  [0.        ]\n",
      "  [0.        ]\n",
      "  [0.        ]\n",
      "  [0.        ]\n",
      "  [0.        ]\n",
      "  [0.        ]\n",
      "  [0.        ]\n",
      "  [0.        ]\n",
      "  [0.        ]\n",
      "  [0.        ]\n",
      "  [0.        ]\n",
      "  [0.        ]\n",
      "  [0.        ]\n",
      "  [0.        ]\n",
      "  [0.        ]\n",
      "  [0.        ]\n",
      "  [0.        ]\n",
      "  [0.        ]\n",
      "  [0.        ]\n",
      "  [0.        ]\n",
      "  [0.        ]\n",
      "  [0.        ]\n",
      "  [0.        ]\n",
      "  [0.        ]\n",
      "  [0.        ]]\n",
      "\n",
      " [[0.        ]\n",
      "  [0.        ]\n",
      "  [0.        ]\n",
      "  [0.        ]\n",
      "  [0.        ]\n",
      "  [0.        ]\n",
      "  [0.32941176]\n",
      "  [0.7254902 ]\n",
      "  [0.62352941]\n",
      "  [0.59215686]\n",
      "  [0.23529412]\n",
      "  [0.14117647]\n",
      "  [0.        ]\n",
      "  [0.        ]\n",
      "  [0.        ]\n",
      "  [0.        ]\n",
      "  [0.        ]\n",
      "  [0.        ]\n",
      "  [0.        ]\n",
      "  [0.        ]\n",
      "  [0.        ]\n",
      "  [0.        ]\n",
      "  [0.        ]\n",
      "  [0.        ]\n",
      "  [0.        ]\n",
      "  [0.        ]\n",
      "  [0.        ]\n",
      "  [0.        ]]\n",
      "\n",
      " [[0.        ]\n",
      "  [0.        ]\n",
      "  [0.        ]\n",
      "  [0.        ]\n",
      "  [0.        ]\n",
      "  [0.        ]\n",
      "  [0.87058824]\n",
      "  [0.99607843]\n",
      "  [0.99607843]\n",
      "  [0.99607843]\n",
      "  [0.99607843]\n",
      "  [0.94509804]\n",
      "  [0.77647059]\n",
      "  [0.77647059]\n",
      "  [0.77647059]\n",
      "  [0.77647059]\n",
      "  [0.77647059]\n",
      "  [0.77647059]\n",
      "  [0.77647059]\n",
      "  [0.77647059]\n",
      "  [0.66666667]\n",
      "  [0.20392157]\n",
      "  [0.        ]\n",
      "  [0.        ]\n",
      "  [0.        ]\n",
      "  [0.        ]\n",
      "  [0.        ]\n",
      "  [0.        ]]\n",
      "\n",
      " [[0.        ]\n",
      "  [0.        ]\n",
      "  [0.        ]\n",
      "  [0.        ]\n",
      "  [0.        ]\n",
      "  [0.        ]\n",
      "  [0.2627451 ]\n",
      "  [0.44705882]\n",
      "  [0.28235294]\n",
      "  [0.44705882]\n",
      "  [0.63921569]\n",
      "  [0.89019608]\n",
      "  [0.99607843]\n",
      "  [0.88235294]\n",
      "  [0.99607843]\n",
      "  [0.99607843]\n",
      "  [0.99607843]\n",
      "  [0.98039216]\n",
      "  [0.89803922]\n",
      "  [0.99607843]\n",
      "  [0.99607843]\n",
      "  [0.54901961]\n",
      "  [0.        ]\n",
      "  [0.        ]\n",
      "  [0.        ]\n",
      "  [0.        ]\n",
      "  [0.        ]\n",
      "  [0.        ]]\n",
      "\n",
      " [[0.        ]\n",
      "  [0.        ]\n",
      "  [0.        ]\n",
      "  [0.        ]\n",
      "  [0.        ]\n",
      "  [0.        ]\n",
      "  [0.        ]\n",
      "  [0.        ]\n",
      "  [0.        ]\n",
      "  [0.        ]\n",
      "  [0.        ]\n",
      "  [0.06666667]\n",
      "  [0.25882353]\n",
      "  [0.05490196]\n",
      "  [0.2627451 ]\n",
      "  [0.2627451 ]\n",
      "  [0.2627451 ]\n",
      "  [0.23137255]\n",
      "  [0.08235294]\n",
      "  [0.9254902 ]\n",
      "  [0.99607843]\n",
      "  [0.41568627]\n",
      "  [0.        ]\n",
      "  [0.        ]\n",
      "  [0.        ]\n",
      "  [0.        ]\n",
      "  [0.        ]\n",
      "  [0.        ]]\n",
      "\n",
      " [[0.        ]\n",
      "  [0.        ]\n",
      "  [0.        ]\n",
      "  [0.        ]\n",
      "  [0.        ]\n",
      "  [0.        ]\n",
      "  [0.        ]\n",
      "  [0.        ]\n",
      "  [0.        ]\n",
      "  [0.        ]\n",
      "  [0.        ]\n",
      "  [0.        ]\n",
      "  [0.        ]\n",
      "  [0.        ]\n",
      "  [0.        ]\n",
      "  [0.        ]\n",
      "  [0.        ]\n",
      "  [0.        ]\n",
      "  [0.3254902 ]\n",
      "  [0.99215686]\n",
      "  [0.81960784]\n",
      "  [0.07058824]\n",
      "  [0.        ]\n",
      "  [0.        ]\n",
      "  [0.        ]\n",
      "  [0.        ]\n",
      "  [0.        ]\n",
      "  [0.        ]]\n",
      "\n",
      " [[0.        ]\n",
      "  [0.        ]\n",
      "  [0.        ]\n",
      "  [0.        ]\n",
      "  [0.        ]\n",
      "  [0.        ]\n",
      "  [0.        ]\n",
      "  [0.        ]\n",
      "  [0.        ]\n",
      "  [0.        ]\n",
      "  [0.        ]\n",
      "  [0.        ]\n",
      "  [0.        ]\n",
      "  [0.        ]\n",
      "  [0.        ]\n",
      "  [0.        ]\n",
      "  [0.        ]\n",
      "  [0.08627451]\n",
      "  [0.91372549]\n",
      "  [1.        ]\n",
      "  [0.3254902 ]\n",
      "  [0.        ]\n",
      "  [0.        ]\n",
      "  [0.        ]\n",
      "  [0.        ]\n",
      "  [0.        ]\n",
      "  [0.        ]\n",
      "  [0.        ]]\n",
      "\n",
      " [[0.        ]\n",
      "  [0.        ]\n",
      "  [0.        ]\n",
      "  [0.        ]\n",
      "  [0.        ]\n",
      "  [0.        ]\n",
      "  [0.        ]\n",
      "  [0.        ]\n",
      "  [0.        ]\n",
      "  [0.        ]\n",
      "  [0.        ]\n",
      "  [0.        ]\n",
      "  [0.        ]\n",
      "  [0.        ]\n",
      "  [0.        ]\n",
      "  [0.        ]\n",
      "  [0.        ]\n",
      "  [0.50588235]\n",
      "  [0.99607843]\n",
      "  [0.93333333]\n",
      "  [0.17254902]\n",
      "  [0.        ]\n",
      "  [0.        ]\n",
      "  [0.        ]\n",
      "  [0.        ]\n",
      "  [0.        ]\n",
      "  [0.        ]\n",
      "  [0.        ]]\n",
      "\n",
      " [[0.        ]\n",
      "  [0.        ]\n",
      "  [0.        ]\n",
      "  [0.        ]\n",
      "  [0.        ]\n",
      "  [0.        ]\n",
      "  [0.        ]\n",
      "  [0.        ]\n",
      "  [0.        ]\n",
      "  [0.        ]\n",
      "  [0.        ]\n",
      "  [0.        ]\n",
      "  [0.        ]\n",
      "  [0.        ]\n",
      "  [0.        ]\n",
      "  [0.        ]\n",
      "  [0.23137255]\n",
      "  [0.97647059]\n",
      "  [0.99607843]\n",
      "  [0.24313725]\n",
      "  [0.        ]\n",
      "  [0.        ]\n",
      "  [0.        ]\n",
      "  [0.        ]\n",
      "  [0.        ]\n",
      "  [0.        ]\n",
      "  [0.        ]\n",
      "  [0.        ]]\n",
      "\n",
      " [[0.        ]\n",
      "  [0.        ]\n",
      "  [0.        ]\n",
      "  [0.        ]\n",
      "  [0.        ]\n",
      "  [0.        ]\n",
      "  [0.        ]\n",
      "  [0.        ]\n",
      "  [0.        ]\n",
      "  [0.        ]\n",
      "  [0.        ]\n",
      "  [0.        ]\n",
      "  [0.        ]\n",
      "  [0.        ]\n",
      "  [0.        ]\n",
      "  [0.        ]\n",
      "  [0.52156863]\n",
      "  [0.99607843]\n",
      "  [0.73333333]\n",
      "  [0.01960784]\n",
      "  [0.        ]\n",
      "  [0.        ]\n",
      "  [0.        ]\n",
      "  [0.        ]\n",
      "  [0.        ]\n",
      "  [0.        ]\n",
      "  [0.        ]\n",
      "  [0.        ]]\n",
      "\n",
      " [[0.        ]\n",
      "  [0.        ]\n",
      "  [0.        ]\n",
      "  [0.        ]\n",
      "  [0.        ]\n",
      "  [0.        ]\n",
      "  [0.        ]\n",
      "  [0.        ]\n",
      "  [0.        ]\n",
      "  [0.        ]\n",
      "  [0.        ]\n",
      "  [0.        ]\n",
      "  [0.        ]\n",
      "  [0.        ]\n",
      "  [0.        ]\n",
      "  [0.03529412]\n",
      "  [0.80392157]\n",
      "  [0.97254902]\n",
      "  [0.22745098]\n",
      "  [0.        ]\n",
      "  [0.        ]\n",
      "  [0.        ]\n",
      "  [0.        ]\n",
      "  [0.        ]\n",
      "  [0.        ]\n",
      "  [0.        ]\n",
      "  [0.        ]\n",
      "  [0.        ]]\n",
      "\n",
      " [[0.        ]\n",
      "  [0.        ]\n",
      "  [0.        ]\n",
      "  [0.        ]\n",
      "  [0.        ]\n",
      "  [0.        ]\n",
      "  [0.        ]\n",
      "  [0.        ]\n",
      "  [0.        ]\n",
      "  [0.        ]\n",
      "  [0.        ]\n",
      "  [0.        ]\n",
      "  [0.        ]\n",
      "  [0.        ]\n",
      "  [0.        ]\n",
      "  [0.49411765]\n",
      "  [0.99607843]\n",
      "  [0.71372549]\n",
      "  [0.        ]\n",
      "  [0.        ]\n",
      "  [0.        ]\n",
      "  [0.        ]\n",
      "  [0.        ]\n",
      "  [0.        ]\n",
      "  [0.        ]\n",
      "  [0.        ]\n",
      "  [0.        ]\n",
      "  [0.        ]]\n",
      "\n",
      " [[0.        ]\n",
      "  [0.        ]\n",
      "  [0.        ]\n",
      "  [0.        ]\n",
      "  [0.        ]\n",
      "  [0.        ]\n",
      "  [0.        ]\n",
      "  [0.        ]\n",
      "  [0.        ]\n",
      "  [0.        ]\n",
      "  [0.        ]\n",
      "  [0.        ]\n",
      "  [0.        ]\n",
      "  [0.        ]\n",
      "  [0.29411765]\n",
      "  [0.98431373]\n",
      "  [0.94117647]\n",
      "  [0.22352941]\n",
      "  [0.        ]\n",
      "  [0.        ]\n",
      "  [0.        ]\n",
      "  [0.        ]\n",
      "  [0.        ]\n",
      "  [0.        ]\n",
      "  [0.        ]\n",
      "  [0.        ]\n",
      "  [0.        ]\n",
      "  [0.        ]]\n",
      "\n",
      " [[0.        ]\n",
      "  [0.        ]\n",
      "  [0.        ]\n",
      "  [0.        ]\n",
      "  [0.        ]\n",
      "  [0.        ]\n",
      "  [0.        ]\n",
      "  [0.        ]\n",
      "  [0.        ]\n",
      "  [0.        ]\n",
      "  [0.        ]\n",
      "  [0.        ]\n",
      "  [0.        ]\n",
      "  [0.0745098 ]\n",
      "  [0.86666667]\n",
      "  [0.99607843]\n",
      "  [0.65098039]\n",
      "  [0.        ]\n",
      "  [0.        ]\n",
      "  [0.        ]\n",
      "  [0.        ]\n",
      "  [0.        ]\n",
      "  [0.        ]\n",
      "  [0.        ]\n",
      "  [0.        ]\n",
      "  [0.        ]\n",
      "  [0.        ]\n",
      "  [0.        ]]\n",
      "\n",
      " [[0.        ]\n",
      "  [0.        ]\n",
      "  [0.        ]\n",
      "  [0.        ]\n",
      "  [0.        ]\n",
      "  [0.        ]\n",
      "  [0.        ]\n",
      "  [0.        ]\n",
      "  [0.        ]\n",
      "  [0.        ]\n",
      "  [0.        ]\n",
      "  [0.        ]\n",
      "  [0.01176471]\n",
      "  [0.79607843]\n",
      "  [0.99607843]\n",
      "  [0.85882353]\n",
      "  [0.1372549 ]\n",
      "  [0.        ]\n",
      "  [0.        ]\n",
      "  [0.        ]\n",
      "  [0.        ]\n",
      "  [0.        ]\n",
      "  [0.        ]\n",
      "  [0.        ]\n",
      "  [0.        ]\n",
      "  [0.        ]\n",
      "  [0.        ]\n",
      "  [0.        ]]\n",
      "\n",
      " [[0.        ]\n",
      "  [0.        ]\n",
      "  [0.        ]\n",
      "  [0.        ]\n",
      "  [0.        ]\n",
      "  [0.        ]\n",
      "  [0.        ]\n",
      "  [0.        ]\n",
      "  [0.        ]\n",
      "  [0.        ]\n",
      "  [0.        ]\n",
      "  [0.        ]\n",
      "  [0.14901961]\n",
      "  [0.99607843]\n",
      "  [0.99607843]\n",
      "  [0.30196078]\n",
      "  [0.        ]\n",
      "  [0.        ]\n",
      "  [0.        ]\n",
      "  [0.        ]\n",
      "  [0.        ]\n",
      "  [0.        ]\n",
      "  [0.        ]\n",
      "  [0.        ]\n",
      "  [0.        ]\n",
      "  [0.        ]\n",
      "  [0.        ]\n",
      "  [0.        ]]\n",
      "\n",
      " [[0.        ]\n",
      "  [0.        ]\n",
      "  [0.        ]\n",
      "  [0.        ]\n",
      "  [0.        ]\n",
      "  [0.        ]\n",
      "  [0.        ]\n",
      "  [0.        ]\n",
      "  [0.        ]\n",
      "  [0.        ]\n",
      "  [0.        ]\n",
      "  [0.12156863]\n",
      "  [0.87843137]\n",
      "  [0.99607843]\n",
      "  [0.45098039]\n",
      "  [0.00392157]\n",
      "  [0.        ]\n",
      "  [0.        ]\n",
      "  [0.        ]\n",
      "  [0.        ]\n",
      "  [0.        ]\n",
      "  [0.        ]\n",
      "  [0.        ]\n",
      "  [0.        ]\n",
      "  [0.        ]\n",
      "  [0.        ]\n",
      "  [0.        ]\n",
      "  [0.        ]]\n",
      "\n",
      " [[0.        ]\n",
      "  [0.        ]\n",
      "  [0.        ]\n",
      "  [0.        ]\n",
      "  [0.        ]\n",
      "  [0.        ]\n",
      "  [0.        ]\n",
      "  [0.        ]\n",
      "  [0.        ]\n",
      "  [0.        ]\n",
      "  [0.        ]\n",
      "  [0.52156863]\n",
      "  [0.99607843]\n",
      "  [0.99607843]\n",
      "  [0.20392157]\n",
      "  [0.        ]\n",
      "  [0.        ]\n",
      "  [0.        ]\n",
      "  [0.        ]\n",
      "  [0.        ]\n",
      "  [0.        ]\n",
      "  [0.        ]\n",
      "  [0.        ]\n",
      "  [0.        ]\n",
      "  [0.        ]\n",
      "  [0.        ]\n",
      "  [0.        ]\n",
      "  [0.        ]]\n",
      "\n",
      " [[0.        ]\n",
      "  [0.        ]\n",
      "  [0.        ]\n",
      "  [0.        ]\n",
      "  [0.        ]\n",
      "  [0.        ]\n",
      "  [0.        ]\n",
      "  [0.        ]\n",
      "  [0.        ]\n",
      "  [0.        ]\n",
      "  [0.23921569]\n",
      "  [0.94901961]\n",
      "  [0.99607843]\n",
      "  [0.99607843]\n",
      "  [0.20392157]\n",
      "  [0.        ]\n",
      "  [0.        ]\n",
      "  [0.        ]\n",
      "  [0.        ]\n",
      "  [0.        ]\n",
      "  [0.        ]\n",
      "  [0.        ]\n",
      "  [0.        ]\n",
      "  [0.        ]\n",
      "  [0.        ]\n",
      "  [0.        ]\n",
      "  [0.        ]\n",
      "  [0.        ]]\n",
      "\n",
      " [[0.        ]\n",
      "  [0.        ]\n",
      "  [0.        ]\n",
      "  [0.        ]\n",
      "  [0.        ]\n",
      "  [0.        ]\n",
      "  [0.        ]\n",
      "  [0.        ]\n",
      "  [0.        ]\n",
      "  [0.        ]\n",
      "  [0.4745098 ]\n",
      "  [0.99607843]\n",
      "  [0.99607843]\n",
      "  [0.85882353]\n",
      "  [0.15686275]\n",
      "  [0.        ]\n",
      "  [0.        ]\n",
      "  [0.        ]\n",
      "  [0.        ]\n",
      "  [0.        ]\n",
      "  [0.        ]\n",
      "  [0.        ]\n",
      "  [0.        ]\n",
      "  [0.        ]\n",
      "  [0.        ]\n",
      "  [0.        ]\n",
      "  [0.        ]\n",
      "  [0.        ]]\n",
      "\n",
      " [[0.        ]\n",
      "  [0.        ]\n",
      "  [0.        ]\n",
      "  [0.        ]\n",
      "  [0.        ]\n",
      "  [0.        ]\n",
      "  [0.        ]\n",
      "  [0.        ]\n",
      "  [0.        ]\n",
      "  [0.        ]\n",
      "  [0.4745098 ]\n",
      "  [0.99607843]\n",
      "  [0.81176471]\n",
      "  [0.07058824]\n",
      "  [0.        ]\n",
      "  [0.        ]\n",
      "  [0.        ]\n",
      "  [0.        ]\n",
      "  [0.        ]\n",
      "  [0.        ]\n",
      "  [0.        ]\n",
      "  [0.        ]\n",
      "  [0.        ]\n",
      "  [0.        ]\n",
      "  [0.        ]\n",
      "  [0.        ]\n",
      "  [0.        ]\n",
      "  [0.        ]]\n",
      "\n",
      " [[0.        ]\n",
      "  [0.        ]\n",
      "  [0.        ]\n",
      "  [0.        ]\n",
      "  [0.        ]\n",
      "  [0.        ]\n",
      "  [0.        ]\n",
      "  [0.        ]\n",
      "  [0.        ]\n",
      "  [0.        ]\n",
      "  [0.        ]\n",
      "  [0.        ]\n",
      "  [0.        ]\n",
      "  [0.        ]\n",
      "  [0.        ]\n",
      "  [0.        ]\n",
      "  [0.        ]\n",
      "  [0.        ]\n",
      "  [0.        ]\n",
      "  [0.        ]\n",
      "  [0.        ]\n",
      "  [0.        ]\n",
      "  [0.        ]\n",
      "  [0.        ]\n",
      "  [0.        ]\n",
      "  [0.        ]\n",
      "  [0.        ]\n",
      "  [0.        ]]]\n",
      "test_images[0].shape:  (28, 28, 1)\n",
      "<class 'numpy.ndarray'>\n",
      "shape test_images:  (10000, 28, 28, 1)\n"
     ]
    }
   ],
   "source": [
    "# print the test_images before the attack\n",
    "print(\"test_images[0]: \", test_images[0])\n",
    "print(\"test_images[0].shape: \", test_images[0].shape)\n",
    "print(type(test_images))\n",
    "print(\"shape test_images: \", test_images.shape)"
   ]
  },
  {
   "cell_type": "code",
   "execution_count": 92,
   "id": "d8a9b6ec",
   "metadata": {},
   "outputs": [
    {
     "name": "stdout",
     "output_type": "stream",
     "text": [
      "type:  <class 'numpy.ndarray'>\n",
      "type(test_images[0]):  <class 'numpy.ndarray'>\n"
     ]
    }
   ],
   "source": [
    "print(\"type: \", type(test_images))\n",
    "print(\"type(test_images[0]): \", type(test_images[0]))"
   ]
  },
  {
   "cell_type": "code",
   "execution_count": 110,
   "id": "ca5fb609",
   "metadata": {},
   "outputs": [
    {
     "data": {
      "text/plain": [
       "<matplotlib.image.AxesImage at 0x19a10dc1d00>"
      ]
     },
     "execution_count": 110,
     "metadata": {},
     "output_type": "execute_result"
    },
    {
     "data": {
      "image/png": "[encoded data removed]",
      "text/plain": [
       "<Figure size 432x288 with 1 Axes>"
      ]
     },
     "metadata": {
      "needs_background": "light"
     },
     "output_type": "display_data"
    }
   ],
   "source": [
    "plt.imshow(test_images[0])"
   ]
  },
  {
   "cell_type": "code",
   "execution_count": 93,
   "id": "e7aab696",
   "metadata": {},
   "outputs": [
    {
     "name": "stderr",
     "output_type": "stream",
     "text": [
      "c:\\Users\\julio\\AppData\\Local\\Programs\\Python\\Python38\\lib\\site-packages\\keras\\engine\\training_v1.py:2067: UserWarning: `Model.state_updates` will be removed in a future version. This property should not be used in TensorFlow 2.0, as `updates` are applied automatically.\n",
      "  updates=self.state_updates,\n"
     ]
    }
   ],
   "source": [
    "#Generamos imagenes adversariales a partir de un dataset que queremos perturbar\n",
    "test_images_adv = attack_fgsm.generate(x=test_images)"
   ]
  },
  {
   "cell_type": "code",
   "execution_count": 94,
   "id": "ccd564c9",
   "metadata": {},
   "outputs": [
    {
     "data": {
      "text/plain": [
       "<matplotlib.image.AxesImage at 0x19a0c628b50>"
      ]
     },
     "execution_count": 94,
     "metadata": {},
     "output_type": "execute_result"
    },
    {
     "data": {
      "image/png": "[encoded data removed]",
      "text/plain": [
       "<Figure size 432x288 with 1 Axes>"
      ]
     },
     "metadata": {
      "needs_background": "light"
     },
     "output_type": "display_data"
    }
   ],
   "source": [
    "#Ejemplo de una perturbación\n",
    "plt.imshow(X=test_images_adv[0])"
   ]
  },
  {
   "cell_type": "code",
   "execution_count": 95,
   "id": "4a922ebc",
   "metadata": {},
   "outputs": [
    {
     "name": "stderr",
     "output_type": "stream",
     "text": [
      "c:\\Users\\julio\\AppData\\Local\\Programs\\Python\\Python38\\lib\\site-packages\\keras\\engine\\training_v1.py:2045: UserWarning: `Model.state_updates` will be removed in a future version. This property should not be used in TensorFlow 2.0, as `updates` are applied automatically.\n",
      "  updates = self.state_updates\n"
     ]
    },
    {
     "name": "stdout",
     "output_type": "stream",
     "text": [
      "Clean test set loss: 0.04 vs adversarial set test loss: 8.71\n",
      "Clean test set accuracy: 0.99 vs adversarial test set accuracy: 0.10\n"
     ]
    }
   ],
   "source": [
    "\n",
    "# Evaluating the model on clean images\n",
    "score_clean = vulnerable_model.evaluate(\n",
    "    x=test_images, \n",
    "    y=test_labels\n",
    "    )\n",
    "\n",
    "# Evaluating the model on adversarial images\n",
    "score_adv = vulnerable_model.evaluate(\n",
    "    x=test_images_adv, \n",
    "    y=test_labels\n",
    "    )\n",
    "\n",
    "# Comparing test losses\n",
    "print(f\"Clean test set loss: {score_clean[0]:.2f} \" \n",
    "      f\"vs adversarial set test loss: {score_adv[0]:.2f}\")\n",
    "\n",
    "# Comparing test accuracies\n",
    "print(f\"Clean test set accuracy: {score_clean[1]:.2f} \" \n",
    "      f\"vs adversarial test set accuracy: {score_adv[1]:.2f}\")\n"
   ]
  },
  {
   "cell_type": "code",
   "execution_count": 96,
   "id": "ac81f743",
   "metadata": {},
   "outputs": [
    {
     "data": {
      "image/png": "[encoded data removed]",
      "text/plain": [
       "<Figure size 1440x720 with 10 Axes>"
      ]
     },
     "metadata": {},
     "output_type": "display_data"
    }
   ],
   "source": [
    "#Se prueba el accuracy para distintos valores de epsilon\n",
    "\n",
    "# Setting the number of rows and columns for the figure\n",
    "nrows, ncols = 2, 5\n",
    "\n",
    "# Generating subplots\n",
    "fig, axes = plt.subplots(\n",
    "    nrows=nrows, \n",
    "    ncols=ncols, \n",
    "    figsize=(20, 10)\n",
    "    )\n",
    "\n",
    "# Defining a range of eps values to try\n",
    "eps_to_try = [0.01, 0.025, 0.05, 0.075, 0.1, 0.125, 0.15, 0.175, 0.2, 0.25]\n",
    "\n",
    "# Defining a counting variable to traverse eps_to_try\n",
    "counter = 0\n",
    "\n",
    "# Iterating over rows and cols\n",
    "for i in range(nrows):\n",
    "    for j in range(ncols):    \n",
    "        # Creating an attack object for the current value of eps    \n",
    "        attack_fgsm = FastGradientMethod(\n",
    "            estimator=clasificador, \n",
    "            eps=eps_to_try[counter]\n",
    "            )\n",
    "\n",
    "        # Generating adversarial images\n",
    "        test_images_adv = attack_fgsm.generate(x=test_images)\n",
    "\n",
    "        # Showing the first adversarial image\n",
    "        axes[i, j].imshow(X=test_images_adv[0])\n",
    "\n",
    "        # Disabling x and y ticks\n",
    "        axes[i, j].set_xticks(ticks=[])\n",
    "        axes[i, j].set_yticks(ticks=[])\n",
    "\n",
    "        # Evaluating model performance on adversarial samples and retrieving test accuracy\n",
    "        test_score = clasificador._model.evaluate(\n",
    "            x=test_images_adv, \n",
    "            y=test_labels\n",
    "            )[1]\n",
    "\n",
    "        # Getting prediction for the image that we displayed\n",
    "        prediction = np.argmax(vulnerable_model.predict(\n",
    "            x=np.expand_dims(a=test_images_adv[0], \n",
    "            axis=0)\n",
    "            ))    \n",
    "\n",
    "        # Showing the current eps value, test accuracy, and prediction\n",
    "        axes[i, j].set_title(\n",
    "            label=f\"Eps value: {eps_to_try[counter]}\\n\"\n",
    "            f\"Test accuracy: {test_score * 100:.2f}%\\n\"\n",
    "            f\"Prediction: {prediction}\"\n",
    "            )\n",
    "\n",
    "        # Incrementing counter\n",
    "        counter += 1\n",
    "\n",
    "# Showing the plot\n",
    "plt.show()"
   ]
  },
  {
   "attachments": {},
   "cell_type": "markdown",
   "id": "0b166296",
   "metadata": {},
   "source": [
    "<h1>Ataque de envenamiento</h1>"
   ]
  },
  {
   "cell_type": "code",
   "execution_count": 97,
   "id": "06fc1918",
   "metadata": {},
   "outputs": [
    {
     "name": "stdout",
     "output_type": "stream",
     "text": [
      "The target labels for poisoning are\n",
      " [[0. 0. 0. 0. 0. 1. 0. 0. 0. 0.]\n",
      " [0. 0. 0. 0. 0. 1. 0. 0. 0. 0.]\n",
      " [0. 0. 0. 0. 0. 1. 0. 0. 0. 0.]\n",
      " [0. 0. 0. 0. 0. 1. 0. 0. 0. 0.]\n",
      " [0. 0. 0. 0. 0. 1. 0. 0. 0. 0.]]\n"
     ]
    }
   ],
   "source": [
    "# Importing dependencies\n",
    "from art.attacks.poisoning import PoisoningAttackBackdoor, PoisoningAttackCleanLabelBackdoor\n",
    "from art.attacks.poisoning.perturbations import add_pattern_bd\n",
    "from art.utils import to_categorical\n",
    "\n",
    "# Defining a poisoning backdoor attack\n",
    "backdoor = PoisoningAttackBackdoor(perturbation=add_pattern_bd)#Agrega un patron en los pixeles\n",
    "\n",
    "# Defining a target label for poisoning\n",
    "target = to_categorical(\n",
    "    labels=np.repeat(a=5, repeats=5), \n",
    "    nb_classes=10\n",
    "    )\n",
    "\n",
    "# Inspecting the target labels\n",
    "print(f\"The target labels for poisoning are\\n {target}\")"
   ]
  },
  {
   "cell_type": "code",
   "execution_count": 98,
   "id": "a25b869c",
   "metadata": {},
   "outputs": [],
   "source": [
    "# Poisoning sample data\n",
    "poisoned_images, poisoned_labels = backdoor.poison(\n",
    "    x=train_images[:5], \n",
    "    y=target\n",
    "    )"
   ]
  },
  {
   "cell_type": "code",
   "execution_count": 99,
   "id": "f30a5d26",
   "metadata": {},
   "outputs": [
    {
     "data": {
      "image/png": "[encoded data removed]",
      "text/plain": [
       "<Figure size 1080x360 with 5 Axes>"
      ]
     },
     "metadata": {},
     "output_type": "display_data"
    }
   ],
   "source": [
    "# Creating a figure and axes for the poisoned images\n",
    "fig, axes = plt.subplots(\n",
    "    nrows=1, \n",
    "    ncols=5, \n",
    "    squeeze=True, \n",
    "    figsize=(15, 5)\n",
    "    )\n",
    "\n",
    "# Plotting the poisoned images\n",
    "for i in range(len(poisoned_images)):\n",
    "    axes[i].imshow(X=poisoned_images[i])\n",
    "    axes[i].set_title(label=f\"Label: {np.argmax(poisoned_labels[i])}\")\n",
    "    axes[i].set_xticks(ticks=[])\n",
    "    axes[i].set_yticks(ticks=[])    \n",
    "\n",
    "# Showing the plot\n",
    "plt.show()"
   ]
  },
  {
   "cell_type": "code",
   "execution_count": 100,
   "id": "a4050706",
   "metadata": {},
   "outputs": [],
   "source": [
    "# Defining a target label for poisoning\n",
    "target = to_categorical(\n",
    "    labels=[9], \n",
    "    nb_classes=10\n",
    "    )[0]\n",
    "\n",
    "# Defining a clean label backdoor attack\n",
    "#Este tipo de ataque no modifica las etiquetas originales, por eso se llama \"clean\"\n",
    "#Se combinaran ambos tipos de ataques\n",
    "\n",
    "attack = PoisoningAttackCleanLabelBackdoor(\n",
    "    backdoor=backdoor, \n",
    "    proxy_classifier=clasificador,#Clasificador usado para entrenar\n",
    "    target=target, \n",
    "    pp_poison=0.75, #Porcentaje de imagenes a perturbar\n",
    "    norm=2, \n",
    "    eps=5, \n",
    "    eps_step=0.1, \n",
    "    max_iter=200)"
   ]
  },
  {
   "cell_type": "code",
   "execution_count": 101,
   "id": "d3461f27",
   "metadata": {},
   "outputs": [
    {
     "data": {
      "application/vnd.jupyter.widget-view+json": {
       "model_id": "fad9ac8f97aa45f6a3e01f649b596aa9",
       "version_major": 2,
       "version_minor": 0
      },
      "text/plain": [
       "PGD - Random Initializations:   0%|          | 0/1 [00:00<?, ?it/s]"
      ]
     },
     "metadata": {},
     "output_type": "display_data"
    },
    {
     "data": {
      "application/vnd.jupyter.widget-view+json": {
       "model_id": "90d607bea4be4cb780222f1a8cb05520",
       "version_major": 2,
       "version_minor": 0
      },
      "text/plain": [
       "PGD - Iterations:   0%|          | 0/200 [00:00<?, ?it/s]"
      ]
     },
     "metadata": {},
     "output_type": "display_data"
    },
    {
     "data": {
      "application/vnd.jupyter.widget-view+json": {
       "model_id": "d9bc72f60dd841c9a997fe742349354c",
       "version_major": 2,
       "version_minor": 0
      },
      "text/plain": [
       "PGD - Random Initializations:   0%|          | 0/1 [00:00<?, ?it/s]"
      ]
     },
     "metadata": {},
     "output_type": "display_data"
    },
    {
     "data": {
      "application/vnd.jupyter.widget-view+json": {
       "model_id": "d464c62598144ad0abaad1c05013e717",
       "version_major": 2,
       "version_minor": 0
      },
      "text/plain": [
       "PGD - Iterations:   0%|          | 0/200 [00:00<?, ?it/s]"
      ]
     },
     "metadata": {},
     "output_type": "display_data"
    },
    {
     "data": {
      "application/vnd.jupyter.widget-view+json": {
       "model_id": "72595e7c11ea4a52af8fac2b76207eae",
       "version_major": 2,
       "version_minor": 0
      },
      "text/plain": [
       "PGD - Random Initializations:   0%|          | 0/1 [00:00<?, ?it/s]"
      ]
     },
     "metadata": {},
     "output_type": "display_data"
    },
    {
     "data": {
      "application/vnd.jupyter.widget-view+json": {
       "model_id": "1bbb5bf92bc3425aa2d12369077334c3",
       "version_major": 2,
       "version_minor": 0
      },
      "text/plain": [
       "PGD - Iterations:   0%|          | 0/200 [00:00<?, ?it/s]"
      ]
     },
     "metadata": {},
     "output_type": "display_data"
    },
    {
     "data": {
      "application/vnd.jupyter.widget-view+json": {
       "model_id": "febe8de31d7f4bfd8cb53886ffb6b07d",
       "version_major": 2,
       "version_minor": 0
      },
      "text/plain": [
       "PGD - Random Initializations:   0%|          | 0/1 [00:00<?, ?it/s]"
      ]
     },
     "metadata": {},
     "output_type": "display_data"
    },
    {
     "data": {
      "application/vnd.jupyter.widget-view+json": {
       "model_id": "07858e3c8b2b4c41b89b8ea98ff9f3a8",
       "version_major": 2,
       "version_minor": 0
      },
      "text/plain": [
       "PGD - Iterations:   0%|          | 0/200 [00:00<?, ?it/s]"
      ]
     },
     "metadata": {},
     "output_type": "display_data"
    },
    {
     "data": {
      "application/vnd.jupyter.widget-view+json": {
       "model_id": "f0451b91561440929f414fe62d242617",
       "version_major": 2,
       "version_minor": 0
      },
      "text/plain": [
       "PGD - Random Initializations:   0%|          | 0/1 [00:00<?, ?it/s]"
      ]
     },
     "metadata": {},
     "output_type": "display_data"
    },
    {
     "data": {
      "application/vnd.jupyter.widget-view+json": {
       "model_id": "949f317f848749d98ad347b632670fed",
       "version_major": 2,
       "version_minor": 0
      },
      "text/plain": [
       "PGD - Iterations:   0%|          | 0/200 [00:00<?, ?it/s]"
      ]
     },
     "metadata": {},
     "output_type": "display_data"
    },
    {
     "data": {
      "application/vnd.jupyter.widget-view+json": {
       "model_id": "fad201aed47842fc9d0b9ad2ec9a733c",
       "version_major": 2,
       "version_minor": 0
      },
      "text/plain": [
       "PGD - Random Initializations:   0%|          | 0/1 [00:00<?, ?it/s]"
      ]
     },
     "metadata": {},
     "output_type": "display_data"
    },
    {
     "data": {
      "application/vnd.jupyter.widget-view+json": {
       "model_id": "c23e4873f3bb49388b3c5d0c6c725a9f",
       "version_major": 2,
       "version_minor": 0
      },
      "text/plain": [
       "PGD - Iterations:   0%|          | 0/200 [00:00<?, ?it/s]"
      ]
     },
     "metadata": {},
     "output_type": "display_data"
    },
    {
     "data": {
      "application/vnd.jupyter.widget-view+json": {
       "model_id": "a4a3e3ce18364e3ba9ab77358388cc9c",
       "version_major": 2,
       "version_minor": 0
      },
      "text/plain": [
       "PGD - Random Initializations:   0%|          | 0/1 [00:00<?, ?it/s]"
      ]
     },
     "metadata": {},
     "output_type": "display_data"
    },
    {
     "data": {
      "application/vnd.jupyter.widget-view+json": {
       "model_id": "8accde54737448e2a9eb68de73503b49",
       "version_major": 2,
       "version_minor": 0
      },
      "text/plain": [
       "PGD - Iterations:   0%|          | 0/200 [00:00<?, ?it/s]"
      ]
     },
     "metadata": {},
     "output_type": "display_data"
    },
    {
     "data": {
      "application/vnd.jupyter.widget-view+json": {
       "model_id": "7b349ed47b2f43009358a80be2a398b0",
       "version_major": 2,
       "version_minor": 0
      },
      "text/plain": [
       "PGD - Random Initializations:   0%|          | 0/1 [00:00<?, ?it/s]"
      ]
     },
     "metadata": {},
     "output_type": "display_data"
    },
    {
     "data": {
      "application/vnd.jupyter.widget-view+json": {
       "model_id": "17233441f30a4211b07899f22b4620ba",
       "version_major": 2,
       "version_minor": 0
      },
      "text/plain": [
       "PGD - Iterations:   0%|          | 0/200 [00:00<?, ?it/s]"
      ]
     },
     "metadata": {},
     "output_type": "display_data"
    },
    {
     "data": {
      "application/vnd.jupyter.widget-view+json": {
       "model_id": "2934eac9b9504cac961b80e56341fb0e",
       "version_major": 2,
       "version_minor": 0
      },
      "text/plain": [
       "PGD - Random Initializations:   0%|          | 0/1 [00:00<?, ?it/s]"
      ]
     },
     "metadata": {},
     "output_type": "display_data"
    },
    {
     "data": {
      "application/vnd.jupyter.widget-view+json": {
       "model_id": "b37dcbce3a5a4ea39d6d6683a9bd4068",
       "version_major": 2,
       "version_minor": 0
      },
      "text/plain": [
       "PGD - Iterations:   0%|          | 0/200 [00:00<?, ?it/s]"
      ]
     },
     "metadata": {},
     "output_type": "display_data"
    },
    {
     "data": {
      "application/vnd.jupyter.widget-view+json": {
       "model_id": "2c205c30067840bba98180582b188867",
       "version_major": 2,
       "version_minor": 0
      },
      "text/plain": [
       "PGD - Random Initializations:   0%|          | 0/1 [00:00<?, ?it/s]"
      ]
     },
     "metadata": {},
     "output_type": "display_data"
    },
    {
     "data": {
      "application/vnd.jupyter.widget-view+json": {
       "model_id": "a97488b30e6a4eb0a30b7798c80e7f50",
       "version_major": 2,
       "version_minor": 0
      },
      "text/plain": [
       "PGD - Iterations:   0%|          | 0/200 [00:00<?, ?it/s]"
      ]
     },
     "metadata": {},
     "output_type": "display_data"
    },
    {
     "data": {
      "application/vnd.jupyter.widget-view+json": {
       "model_id": "7b584f62c8664621bd973553fa4c098e",
       "version_major": 2,
       "version_minor": 0
      },
      "text/plain": [
       "PGD - Random Initializations:   0%|          | 0/1 [00:00<?, ?it/s]"
      ]
     },
     "metadata": {},
     "output_type": "display_data"
    },
    {
     "data": {
      "application/vnd.jupyter.widget-view+json": {
       "model_id": "60a785d8af50490e9d812cd8cd21c4f3",
       "version_major": 2,
       "version_minor": 0
      },
      "text/plain": [
       "PGD - Iterations:   0%|          | 0/200 [00:00<?, ?it/s]"
      ]
     },
     "metadata": {},
     "output_type": "display_data"
    },
    {
     "data": {
      "application/vnd.jupyter.widget-view+json": {
       "model_id": "faf9c5027c964c948c0f21313fa787c6",
       "version_major": 2,
       "version_minor": 0
      },
      "text/plain": [
       "PGD - Random Initializations:   0%|          | 0/1 [00:00<?, ?it/s]"
      ]
     },
     "metadata": {},
     "output_type": "display_data"
    },
    {
     "data": {
      "application/vnd.jupyter.widget-view+json": {
       "model_id": "ea568d9efd344abab63eeb0ae612d5cb",
       "version_major": 2,
       "version_minor": 0
      },
      "text/plain": [
       "PGD - Iterations:   0%|          | 0/200 [00:00<?, ?it/s]"
      ]
     },
     "metadata": {},
     "output_type": "display_data"
    },
    {
     "data": {
      "application/vnd.jupyter.widget-view+json": {
       "model_id": "957fccfc34d1481280d2d102d1718216",
       "version_major": 2,
       "version_minor": 0
      },
      "text/plain": [
       "PGD - Random Initializations:   0%|          | 0/1 [00:00<?, ?it/s]"
      ]
     },
     "metadata": {},
     "output_type": "display_data"
    },
    {
     "data": {
      "application/vnd.jupyter.widget-view+json": {
       "model_id": "4fa84cb6a0934fcd95088aba325b488e",
       "version_major": 2,
       "version_minor": 0
      },
      "text/plain": [
       "PGD - Iterations:   0%|          | 0/200 [00:00<?, ?it/s]"
      ]
     },
     "metadata": {},
     "output_type": "display_data"
    },
    {
     "data": {
      "application/vnd.jupyter.widget-view+json": {
       "model_id": "a6c09f1ffcba4af58deec2e0c53d1f99",
       "version_major": 2,
       "version_minor": 0
      },
      "text/plain": [
       "PGD - Random Initializations:   0%|          | 0/1 [00:00<?, ?it/s]"
      ]
     },
     "metadata": {},
     "output_type": "display_data"
    },
    {
     "data": {
      "application/vnd.jupyter.widget-view+json": {
       "model_id": "c5ddce769efd404ea3e9bd3aabfb7634",
       "version_major": 2,
       "version_minor": 0
      },
      "text/plain": [
       "PGD - Iterations:   0%|          | 0/200 [00:00<?, ?it/s]"
      ]
     },
     "metadata": {},
     "output_type": "display_data"
    },
    {
     "data": {
      "application/vnd.jupyter.widget-view+json": {
       "model_id": "523660fcd8014253ab7178ebcb065458",
       "version_major": 2,
       "version_minor": 0
      },
      "text/plain": [
       "PGD - Random Initializations:   0%|          | 0/1 [00:00<?, ?it/s]"
      ]
     },
     "metadata": {},
     "output_type": "display_data"
    },
    {
     "data": {
      "application/vnd.jupyter.widget-view+json": {
       "model_id": "9e01397aa9b3490d9f492d0900b01ba4",
       "version_major": 2,
       "version_minor": 0
      },
      "text/plain": [
       "PGD - Iterations:   0%|          | 0/200 [00:00<?, ?it/s]"
      ]
     },
     "metadata": {},
     "output_type": "display_data"
    },
    {
     "data": {
      "application/vnd.jupyter.widget-view+json": {
       "model_id": "99b944b9278c4051af576278e8ed443f",
       "version_major": 2,
       "version_minor": 0
      },
      "text/plain": [
       "PGD - Random Initializations:   0%|          | 0/1 [00:00<?, ?it/s]"
      ]
     },
     "metadata": {},
     "output_type": "display_data"
    },
    {
     "data": {
      "application/vnd.jupyter.widget-view+json": {
       "model_id": "e01fd71bcfbd4e219c4d349110da17c1",
       "version_major": 2,
       "version_minor": 0
      },
      "text/plain": [
       "PGD - Iterations:   0%|          | 0/200 [00:00<?, ?it/s]"
      ]
     },
     "metadata": {},
     "output_type": "display_data"
    },
    {
     "data": {
      "application/vnd.jupyter.widget-view+json": {
       "model_id": "97610b729efa44ebbeb22b1e7fb63ab4",
       "version_major": 2,
       "version_minor": 0
      },
      "text/plain": [
       "PGD - Random Initializations:   0%|          | 0/1 [00:00<?, ?it/s]"
      ]
     },
     "metadata": {},
     "output_type": "display_data"
    },
    {
     "data": {
      "application/vnd.jupyter.widget-view+json": {
       "model_id": "487038e236ca46cc87c9486d72f7de36",
       "version_major": 2,
       "version_minor": 0
      },
      "text/plain": [
       "PGD - Iterations:   0%|          | 0/200 [00:00<?, ?it/s]"
      ]
     },
     "metadata": {},
     "output_type": "display_data"
    },
    {
     "data": {
      "application/vnd.jupyter.widget-view+json": {
       "model_id": "01138dcc546b45d9b20664e183dffd23",
       "version_major": 2,
       "version_minor": 0
      },
      "text/plain": [
       "PGD - Random Initializations:   0%|          | 0/1 [00:00<?, ?it/s]"
      ]
     },
     "metadata": {},
     "output_type": "display_data"
    },
    {
     "data": {
      "application/vnd.jupyter.widget-view+json": {
       "model_id": "fe0e127233f6454985cc0df767dbd612",
       "version_major": 2,
       "version_minor": 0
      },
      "text/plain": [
       "PGD - Iterations:   0%|          | 0/200 [00:00<?, ?it/s]"
      ]
     },
     "metadata": {},
     "output_type": "display_data"
    },
    {
     "data": {
      "application/vnd.jupyter.widget-view+json": {
       "model_id": "bff8e354f92146dc8dbe758f512c5f3b",
       "version_major": 2,
       "version_minor": 0
      },
      "text/plain": [
       "PGD - Random Initializations:   0%|          | 0/1 [00:00<?, ?it/s]"
      ]
     },
     "metadata": {},
     "output_type": "display_data"
    },
    {
     "data": {
      "application/vnd.jupyter.widget-view+json": {
       "model_id": "6758fbe42a5348b18b5d4827da46f014",
       "version_major": 2,
       "version_minor": 0
      },
      "text/plain": [
       "PGD - Iterations:   0%|          | 0/200 [00:00<?, ?it/s]"
      ]
     },
     "metadata": {},
     "output_type": "display_data"
    },
    {
     "data": {
      "application/vnd.jupyter.widget-view+json": {
       "model_id": "ab52aa7fa56e498c918069edf5d2c789",
       "version_major": 2,
       "version_minor": 0
      },
      "text/plain": [
       "PGD - Random Initializations:   0%|          | 0/1 [00:00<?, ?it/s]"
      ]
     },
     "metadata": {},
     "output_type": "display_data"
    },
    {
     "data": {
      "application/vnd.jupyter.widget-view+json": {
       "model_id": "267720be580845bfbda67ab2a7b87b52",
       "version_major": 2,
       "version_minor": 0
      },
      "text/plain": [
       "PGD - Iterations:   0%|          | 0/200 [00:00<?, ?it/s]"
      ]
     },
     "metadata": {},
     "output_type": "display_data"
    },
    {
     "data": {
      "application/vnd.jupyter.widget-view+json": {
       "model_id": "9d8d404d89fc42d98c0f4d05efeda2bd",
       "version_major": 2,
       "version_minor": 0
      },
      "text/plain": [
       "PGD - Random Initializations:   0%|          | 0/1 [00:00<?, ?it/s]"
      ]
     },
     "metadata": {},
     "output_type": "display_data"
    },
    {
     "data": {
      "application/vnd.jupyter.widget-view+json": {
       "model_id": "84c0e48e067147a7b089ffe3435b25a6",
       "version_major": 2,
       "version_minor": 0
      },
      "text/plain": [
       "PGD - Iterations:   0%|          | 0/200 [00:00<?, ?it/s]"
      ]
     },
     "metadata": {},
     "output_type": "display_data"
    },
    {
     "data": {
      "application/vnd.jupyter.widget-view+json": {
       "model_id": "ef7c628c468849fb9372c81b4865eba0",
       "version_major": 2,
       "version_minor": 0
      },
      "text/plain": [
       "PGD - Random Initializations:   0%|          | 0/1 [00:00<?, ?it/s]"
      ]
     },
     "metadata": {},
     "output_type": "display_data"
    },
    {
     "data": {
      "application/vnd.jupyter.widget-view+json": {
       "model_id": "152ac4c810454c5e8f4b4ef987b45b36",
       "version_major": 2,
       "version_minor": 0
      },
      "text/plain": [
       "PGD - Iterations:   0%|          | 0/200 [00:00<?, ?it/s]"
      ]
     },
     "metadata": {},
     "output_type": "display_data"
    },
    {
     "data": {
      "application/vnd.jupyter.widget-view+json": {
       "model_id": "42e302b9e90546c88e5e214707f11188",
       "version_major": 2,
       "version_minor": 0
      },
      "text/plain": [
       "PGD - Random Initializations:   0%|          | 0/1 [00:00<?, ?it/s]"
      ]
     },
     "metadata": {},
     "output_type": "display_data"
    },
    {
     "data": {
      "application/vnd.jupyter.widget-view+json": {
       "model_id": "ade28c8ac5494176abb055f5dc0a5ceb",
       "version_major": 2,
       "version_minor": 0
      },
      "text/plain": [
       "PGD - Iterations:   0%|          | 0/200 [00:00<?, ?it/s]"
      ]
     },
     "metadata": {},
     "output_type": "display_data"
    }
   ],
   "source": [
    "# Poisoning training data\n",
    "poisoned_images, poisoned_labels = attack.poison(\n",
    "    x=train_images[:10000], \n",
    "    y=train_labels[:10000]\n",
    "    )"
   ]
  },
  {
   "cell_type": "code",
   "execution_count": 102,
   "id": "25487747",
   "metadata": {},
   "outputs": [
    {
     "data": {
      "image/png": "[encoded data removed]",
      "text/plain": [
       "<Figure size 720x1800 with 10 Axes>"
      ]
     },
     "metadata": {},
     "output_type": "display_data"
    }
   ],
   "source": [
    "# Getting the indices of the images\n",
    "# whose target corresponds to our backdoor target\n",
    "poisoned_indices = np.all(\n",
    "        a=(poisoned_labels == target), \n",
    "        axis=1\n",
    "        )\n",
    "\n",
    "# Getting a few images from the poisoned and clean dataset for comparison\n",
    "sample_poisoned_images = poisoned_images[poisoned_indices][:5]\n",
    "sample_clean_images = train_images[:10000][poisoned_indices][:5]\n",
    "\n",
    "# Defining a number of rows and columns for the plot\n",
    "nrows, ncols = 5, 2\n",
    "\n",
    "# Creating a figure and axes\n",
    "fig, axes = plt.subplots(\n",
    "        nrows=nrows, \n",
    "        ncols=ncols, \n",
    "        figsize=(10, 25)\n",
    "        )\n",
    "\n",
    "# Defining a counting variable\n",
    "counter = 0\n",
    "\n",
    "# Indicating the purpose of each column\n",
    "axes[0, 0].set_title(\n",
    "        label=\"Images from the poisoned dataset\", \n",
    "        pad=25\n",
    "        )\n",
    "axes[0, 1].set_title(\n",
    "        label=\"Images from the clean dataset\", \n",
    "        pad=25\n",
    "        )\n",
    "\n",
    "# Iterating over the axis rows in our figure\n",
    "for i in range(nrows):    \n",
    "        # Plotting the image from the poisoned dataset,\n",
    "        # turning off axis ticks,\n",
    "        # and setting axis title\n",
    "        axes[i, 0].imshow(sample_poisoned_images[counter])        \n",
    "        axes[i, 0].set_xticks(ticks=[])\n",
    "        axes[i, 0].set_yticks(ticks=[])\n",
    "        \n",
    "\n",
    "        # Plotting the image from the clean dataset,\n",
    "        # turning off axis ticks,\n",
    "        # and setting axis title\n",
    "        axes[i, 1].imshow(sample_clean_images[counter])\n",
    "        axes[i, 1].set_xticks(ticks=[])\n",
    "        axes[i, 1].set_yticks(ticks=[])\n",
    "\n",
    "\n",
    "        # Incrementing counter value\n",
    "        counter += 1\n",
    "\n",
    "# Showing the plot\n",
    "plt.show()"
   ]
  },
  {
   "cell_type": "code",
   "execution_count": 103,
   "id": "17214672",
   "metadata": {},
   "outputs": [],
   "source": [
    "# Function for creating victim model\n",
    "def create_victim_model():\n",
    "    # Defining the model's architecture\n",
    "    model = tf.keras.models.Sequential([\n",
    "        Conv2D(filters=32, kernel_size=3, activation=\"relu\", input_shape=(28, 28, 1)),\n",
    "        Conv2D(filters=32, kernel_size=3, activation=\"relu\"),\n",
    "        MaxPool2D(pool_size=2),\n",
    "        Flatten(),\n",
    "        Dense(units=10, activation=\"softmax\")\n",
    "    ])\n",
    "    \n",
    "    # Compiling the model\n",
    "    model.compile(\n",
    "        loss='categorical_crossentropy', \n",
    "        optimizer='adam', \n",
    "        metrics=['accuracy']\n",
    "        )\n",
    "\n",
    "    # Returning the model\n",
    "    return model "
   ]
  },
  {
   "cell_type": "code",
   "execution_count": 104,
   "id": "c96e7a69",
   "metadata": {},
   "outputs": [
    {
     "name": "stdout",
     "output_type": "stream",
     "text": [
      "Train on 10000 samples\n",
      "Epoch 1/10\n",
      "10000/10000 [==============================] - 7s 707us/sample - loss: 0.4222 - accuracy: 0.8748\n",
      "Epoch 2/10\n",
      "10000/10000 [==============================] - 7s 676us/sample - loss: 0.1318 - accuracy: 0.9607\n",
      "Epoch 3/10\n",
      "10000/10000 [==============================] - 7s 686us/sample - loss: 0.0759 - accuracy: 0.9782\n",
      "Epoch 4/10\n",
      "10000/10000 [==============================] - 7s 694us/sample - loss: 0.0580 - accuracy: 0.9819\n",
      "Epoch 5/10\n",
      "10000/10000 [==============================] - 7s 682us/sample - loss: 0.0413 - accuracy: 0.9888\n",
      "Epoch 6/10\n",
      "10000/10000 [==============================] - 7s 702us/sample - loss: 0.0317 - accuracy: 0.9902\n",
      "Epoch 7/10\n",
      "10000/10000 [==============================] - 7s 705us/sample - loss: 0.0260 - accuracy: 0.9919\n",
      "Epoch 8/10\n",
      "10000/10000 [==============================] - 7s 664us/sample - loss: 0.0136 - accuracy: 0.9958\n",
      "Epoch 9/10\n",
      "10000/10000 [==============================] - 7s 679us/sample - loss: 0.0133 - accuracy: 0.9956\n",
      "Epoch 10/10\n",
      "10000/10000 [==============================] - 7s 716us/sample - loss: 0.0138 - accuracy: 0.9952\n"
     ]
    },
    {
     "data": {
      "text/plain": [
       "<keras.callbacks.History at 0x19a0bf2ebb0>"
      ]
     },
     "execution_count": 104,
     "metadata": {},
     "output_type": "execute_result"
    }
   ],
   "source": [
    "model_poisoned = create_victim_model()\n",
    "model_poisoned.fit(\n",
    "    x=poisoned_images, \n",
    "    y=poisoned_labels, \n",
    "    epochs=10\n",
    "    )"
   ]
  },
  {
   "cell_type": "code",
   "execution_count": 105,
   "id": "38a5bb67",
   "metadata": {},
   "outputs": [],
   "source": [
    "#Envenenamiento al momento en la etapa de inferencia\n",
    "\n",
    "# Getting the indices of the test images whose target \n",
    "# is different from the backdoor target\n",
    "not_target = np.logical_not(np.all(\n",
    "    a=test_labels == target, \n",
    "    axis=1\n",
    "    ))\n",
    "\n",
    "# Poisoning the test data while keeping the labels the same\n",
    "px_test, py_test = backdoor.poison(\n",
    "    x=test_images[not_target], \n",
    "    y=test_labels[not_target]\n",
    "    )"
   ]
  },
  {
   "cell_type": "code",
   "execution_count": 106,
   "id": "1af45cc4",
   "metadata": {},
   "outputs": [
    {
     "data": {
      "image/png": "[encoded data removed]",
      "text/plain": [
       "<Figure size 1800x720 with 10 Axes>"
      ]
     },
     "metadata": {},
     "output_type": "display_data"
    }
   ],
   "source": [
    "# Setting the number of rows and columns for the plot\n",
    "nrows, ncols = 2, 5\n",
    "\n",
    "# Creating a figure and axes\n",
    "fig, axes = plt.subplots(\n",
    "    nrows=nrows, \n",
    "    ncols=ncols, \n",
    "    figsize=(25, 10)\n",
    "    )\n",
    "\n",
    "# Defining a counting variable\n",
    "counter = 0\n",
    "\n",
    "# Iterating over rows and cols,\n",
    "# plotting poisoned test images\n",
    "# along with their true targets\n",
    "for i in range(nrows):\n",
    "    for j in range(ncols):\n",
    "        axes[i, j].imshow(px_test[counter])\n",
    "        axes[i, j].set_title(label=f\"True label: {np.argmax(py_test[counter])}\")\n",
    "        axes[i, j].set_xticks(ticks=[])\n",
    "        axes[i, j].set_yticks(ticks=[])\n",
    "\n",
    "        # Incrementing the counter\n",
    "        counter += 1"
   ]
  },
  {
   "cell_type": "code",
   "execution_count": 107,
   "id": "17aaa801",
   "metadata": {},
   "outputs": [
    {
     "name": "stdout",
     "output_type": "stream",
     "text": [
      "Clean test loss: 0.12 vs poisoned test loss: 1.67\n",
      "Clean test accuracy: 0.97 vs poisoned test accuracy: 0.71\n"
     ]
    }
   ],
   "source": [
    "# Evaluating the poisoned classifier on clean test data\n",
    "scores_clean = model_poisoned.evaluate(\n",
    "    x=test_images, \n",
    "    y=test_labels\n",
    "    )\n",
    "\n",
    "# Evaluating the poisoned classifier on poisoned test data\n",
    "scores_poisoned = model_poisoned.evaluate(\n",
    "    x=px_test, \n",
    "    y=py_test\n",
    "    )\n",
    "\n",
    "# Comparing test losses\n",
    "print(f\"Clean test loss: {scores_clean[0]:.2f} \" \n",
    "      f\"vs poisoned test loss: {scores_poisoned[0]:.2f}\")\n",
    "\n",
    "# Comparing test accuracies\n",
    "print(f\"Clean test accuracy: {scores_clean[1]:.2f} \" \n",
    "      f\"vs poisoned test accuracy: {scores_poisoned[1]:.2f}\")"
   ]
  },
  {
   "cell_type": "code",
   "execution_count": 108,
   "id": "2ae1bda2",
   "metadata": {},
   "outputs": [
    {
     "data": {
      "image/png": "[encoded data removed]",
      "text/plain": [
       "<Figure size 1800x720 with 10 Axes>"
      ]
     },
     "metadata": {},
     "output_type": "display_data"
    }
   ],
   "source": [
    "# Setting the number of rows and columns for the plot\n",
    "nrows, ncols = 2, 5\n",
    "\n",
    "# Creating a figure and axes\n",
    "fig, axes = plt.subplots(\n",
    "    nrows=nrows, \n",
    "    ncols=ncols, \n",
    "    figsize=(25, 10)\n",
    "    )\n",
    "\n",
    "# Getting predictions for the first ten poisoned images\n",
    "poisoned_predictions = model_poisoned.predict(x=px_test[:10])\n",
    "\n",
    "# Defining a counting variable\n",
    "counter = 0\n",
    "\n",
    "# Iterating over rows and cols,\n",
    "# plotting poisoned images\n",
    "# along with their predictions\n",
    "for i in range(nrows):\n",
    "    for j in range(ncols):\n",
    "        axes[i, j].imshow(px_test[counter])\n",
    "        axes[i, j].set_title(label=f\"Prediction: {np.argmax(poisoned_predictions[counter])}\")\n",
    "        axes[i, j].set_xticks(ticks=[])\n",
    "        axes[i, j].set_yticks(ticks=[])\n",
    "\n",
    "        # Incrementing the counter\n",
    "        counter += 1"
   ]
  },
  {
   "cell_type": "code",
   "execution_count": null,
   "id": "4928020b",
   "metadata": {},
   "outputs": [],
   "source": []
  }
 ],
 "metadata": {
  "kernelspec": {
   "display_name": "Python 3 (ipykernel)",
   "language": "python",
   "name": "python3"
  },
  "language_info": {
   "codemirror_mode": {
    "name": "ipython",
    "version": 3
   },
   "file_extension": ".py",
   "mimetype": "text/x-python",
   "name": "python",
   "nbconvert_exporter": "python",
   "pygments_lexer": "ipython3",
   "version": "3.9.10"
  }
 },
 "nbformat": 4,
 "nbformat_minor": 5
}
