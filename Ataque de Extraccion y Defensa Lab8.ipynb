{
 "cells": [
  {
   "cell_type": "code",
   "execution_count": 38,
   "metadata": {},
   "outputs": [],
   "source": [
    "import tensorflow as tf\n",
    "from tensorflow.keras.layers import Conv2D, MaxPool2D, Dense, Flatten\n",
    "import numpy as np\n",
    "import matplotlib.pyplot as plt\n",
    "from tensorflow.keras import layers\n",
    "from art.estimators.classification import KerasClassifier #No soporta TF 2\n",
    "import os\n",
    "from PIL import Image\n",
    "\n",
    "# Disabling eager execution from TF 2\n",
    "tf.compat.v1.disable_eager_execution()"
   ]
  },
  {
   "cell_type": "code",
   "execution_count": 39,
   "metadata": {},
   "outputs": [],
   "source": [
    "#Cargamos el modelo\n",
    "\n",
    "vulnerable_model = tf.keras.models.load_model(\"modelo_victima_lab6\")"
   ]
  },
  {
   "cell_type": "code",
   "execution_count": 40,
   "metadata": {},
   "outputs": [],
   "source": [
    "# load images as numpy arrays from directory 'malimg_paper_dataset_imgs'\n",
    "images = []\n",
    "labels = []\n",
    "main_directory = './malimg_paper_dataset_imgs'\n",
    "for subfolder in os.listdir(main_directory):\n",
    "    subfolder_path = os.path.join(main_directory, subfolder)\n",
    "    if os.path.isdir(subfolder_path):\n",
    "        # Iterate over files in the subfolder\n",
    "        for file_name in os.listdir(subfolder_path):\n",
    "            # Check if the file has the extension .png\n",
    "            if file_name.endswith('.png'):\n",
    "                file_path = os.path.join(subfolder_path, file_name)\n",
    "                # Load the image using PIL\n",
    "                image = Image.open(file_path)\n",
    "                image = image.resize((256,256))\n",
    "                image = image.convert('L')\n",
    "                # Convert the image to a NumPy array and add it to the list\n",
    "                image = np.array(image)\n",
    "                #if (image_np.shape == (410, 512)):\n",
    "                images.append([image.tolist()])\n",
    "                labels.append(subfolder)"
   ]
  },
  {
   "cell_type": "code",
   "execution_count": 41,
   "metadata": {},
   "outputs": [],
   "source": [
    "# encode categorical labels to integers\n",
    "from sklearn.preprocessing import LabelEncoder\n",
    "\n",
    "le = LabelEncoder()\n",
    "labels = le.fit_transform(labels)\n",
    "\n",
    "images = np.array(images)\n",
    "labels = np.array(labels)"
   ]
  },
  {
   "cell_type": "code",
   "execution_count": 42,
   "metadata": {},
   "outputs": [],
   "source": [
    "#Dividir el dataset\n",
    "from sklearn.model_selection import train_test_split\n",
    "\n",
    "X_train, X_test, y_train, y_test = train_test_split(images, labels, test_size=0.2, random_state=42)"
   ]
  },
  {
   "cell_type": "code",
   "execution_count": 43,
   "metadata": {},
   "outputs": [],
   "source": [
    "# usar el 25% de los datos de entrenamiento\n",
    "train_images_stolen = X_train\n",
    "train_labels_stolen = y_train"
   ]
  },
  {
   "cell_type": "code",
   "execution_count": 44,
   "metadata": {},
   "outputs": [],
   "source": [
    "clasificador = KerasClassifier(\n",
    "    model=vulnerable_model,\n",
    "    clip_values=(0, 1))"
   ]
  },
  {
   "cell_type": "code",
   "execution_count": 45,
   "metadata": {},
   "outputs": [],
   "source": [
    "from art.attacks.extraction import CopycatCNN\n",
    "# Creating the \"neural net thief\" object\n",
    "# that will steal the original classifier\n",
    "copycat_cnn = CopycatCNN(\n",
    "    batch_size_fit=256,\n",
    "    batch_size_query=256,\n",
    "    nb_epochs=20,\n",
    "    nb_stolen=len(X_train)*2,\n",
    "    classifier=clasificador\n",
    "    )"
   ]
  },
  {
   "cell_type": "code",
   "execution_count": 46,
   "metadata": {},
   "outputs": [],
   "source": [
    "num_classes = 25\n",
    "\n",
    "#Definimos un nuevo modelo\n",
    "def create_blank_model():\n",
    "    # Defining the model\n",
    "    model = tf.keras.models.Sequential([\n",
    "        layers.Rescaling(1./255, input_shape=(256, 256, 1)), # normaliza los valores de los pixeles\n",
    "        layers.Conv2D(16, 1, padding='same', activation='relu'), # capa convolucional\n",
    "        layers.MaxPooling2D(), # capa de pooling\n",
    "        layers.Conv2D(64, 1, padding='same', activation='relu'), # capa convolucional\n",
    "        layers.MaxPooling2D(), # capa de pooling\n",
    "        layers.Flatten(), # capa de aplanamiento\n",
    "        layers.Dense(128, activation='relu'), # capa densa\n",
    "        layers.Dense(num_classes) # capa densa\n",
    "    ])\n",
    "\n",
    "    # Compiling the model\n",
    "    model.compile(optimizer='adam',\n",
    "                loss=tf.keras.losses.SparseCategoricalCrossentropy(from_logits=True),\n",
    "                metrics=['accuracy'])\n",
    "\n",
    "    # Returning the model\n",
    "    return model"
   ]
  },
  {
   "cell_type": "code",
   "execution_count": 47,
   "metadata": {},
   "outputs": [],
   "source": [
    "model_stolen = KerasClassifier(\n",
    "    model=create_blank_model(),\n",
    "    clip_values=(0, 1)\n",
    "    )"
   ]
  },
  {
   "cell_type": "code",
   "execution_count": 48,
   "metadata": {},
   "outputs": [],
   "source": [
    "X_test = X_test.reshape(X_test.shape[0], 256, 256, 1)"
   ]
  },
  {
   "cell_type": "code",
   "execution_count": 49,
   "metadata": {},
   "outputs": [
    {
     "name": "stdout",
     "output_type": "stream",
     "text": [
      "Train on 1868 samples\n",
      "Epoch 1/20\n",
      "1868/1868 [==============================] - 41s 22ms/sample - loss: 10.1239 - accuracy: 0.1660\n",
      "Epoch 2/20\n",
      "1868/1868 [==============================] - 23s 12ms/sample - loss: 3.6331 - accuracy: 0.2580\n",
      "Epoch 3/20\n",
      "1868/1868 [==============================] - 26s 14ms/sample - loss: 2.5295 - accuracy: 0.3592\n",
      "Epoch 4/20\n",
      "1868/1868 [==============================] - 27s 15ms/sample - loss: 1.9348 - accuracy: 0.4866\n",
      "Epoch 5/20\n",
      "1868/1868 [==============================] - 27s 15ms/sample - loss: 1.6271 - accuracy: 0.5155\n",
      "Epoch 6/20\n",
      "1868/1868 [==============================] - 27s 14ms/sample - loss: 1.3080 - accuracy: 0.6783\n",
      "Epoch 7/20\n",
      "1868/1868 [==============================] - 26s 14ms/sample - loss: 1.0052 - accuracy: 0.8003\n",
      "Epoch 8/20\n",
      "1868/1868 [==============================] - 26s 14ms/sample - loss: 0.7663 - accuracy: 0.8271\n",
      "Epoch 9/20\n",
      "1868/1868 [==============================] - 25s 14ms/sample - loss: 0.5979 - accuracy: 0.8453\n",
      "Epoch 10/20\n",
      "1868/1868 [==============================] - 27s 15ms/sample - loss: 0.4806 - accuracy: 0.8774\n",
      "Epoch 11/20\n",
      "1868/1868 [==============================] - 27s 14ms/sample - loss: 0.3879 - accuracy: 0.9079\n",
      "Epoch 12/20\n",
      "1868/1868 [==============================] - 27s 14ms/sample - loss: 0.3090 - accuracy: 0.9390\n",
      "Epoch 13/20\n",
      "1868/1868 [==============================] - 27s 14ms/sample - loss: 0.2500 - accuracy: 0.9529\n",
      "Epoch 14/20\n",
      "1868/1868 [==============================] - 24s 13ms/sample - loss: 0.2056 - accuracy: 0.9582\n",
      "Epoch 15/20\n",
      "1868/1868 [==============================] - 23s 12ms/sample - loss: 0.1665 - accuracy: 0.9657\n",
      "Epoch 16/20\n",
      "1868/1868 [==============================] - 25s 13ms/sample - loss: 0.1418 - accuracy: 0.9684\n",
      "Epoch 17/20\n",
      "1868/1868 [==============================] - 27s 14ms/sample - loss: 0.1211 - accuracy: 0.9754\n",
      "Epoch 18/20\n",
      "1868/1868 [==============================] - 31s 16ms/sample - loss: 0.1041 - accuracy: 0.9759\n",
      "Epoch 19/20\n",
      "1868/1868 [==============================] - 27s 15ms/sample - loss: 0.0877 - accuracy: 0.9786\n",
      "Epoch 20/20\n",
      "1868/1868 [==============================] - 26s 14ms/sample - loss: 0.0750 - accuracy: 0.9861\n"
     ]
    }
   ],
   "source": [
    "# Extracting a thieved classifier\n",
    "# by training the reference model\n",
    "stolen_classifier = copycat_cnn.extract(\n",
    "    x=X_test, \n",
    "    y=y_test, \n",
    "    thieved_classifier=model_stolen\n",
    "    )"
   ]
  },
  {
   "cell_type": "code",
   "execution_count": 50,
   "metadata": {},
   "outputs": [
    {
     "name": "stdout",
     "output_type": "stream",
     "text": [
      "Original test loss: 0.24 vs stolen test loss: 0.49\n",
      "Original test accuracy: 0.94 vs stolen test accuracy: 0.94\n"
     ]
    }
   ],
   "source": [
    "# Testing the performance of the original classifier\n",
    "score_original = clasificador._model.evaluate(\n",
    "    x=X_test, \n",
    "    y=y_test\n",
    "    )\n",
    "\n",
    "# Testing the performance of the stolen classifier\n",
    "score_stolen = stolen_classifier._model.evaluate(\n",
    "    x=X_test, \n",
    "    y=y_test\n",
    "    )\n",
    "\n",
    "# Comparing test losses\n",
    "print(f\"Original test loss: {score_original[0]:.2f} \" \n",
    "      f\"vs stolen test loss: {score_stolen[0]:.2f}\")\n",
    "\n",
    "# Comparing test accuracies\n",
    "print(f\"Original test accuracy: {score_original[1]:.2f} \" \n",
    "      f\"vs stolen test accuracy: {score_stolen[1]:.2f}\")"
   ]
  },
  {
   "attachments": {},
   "cell_type": "markdown",
   "metadata": {},
   "source": [
    "Defensa"
   ]
  },
  {
   "cell_type": "code",
   "execution_count": 51,
   "metadata": {},
   "outputs": [],
   "source": [
    "from art.defences.postprocessor import ReverseSigmoid\n",
    "from art.attacks.extraction import CopycatCNN\n"
   ]
  },
  {
   "cell_type": "code",
   "execution_count": 52,
   "metadata": {},
   "outputs": [],
   "source": [
    "postprocessor = ReverseSigmoid(\n",
    "    beta=1.0,\n",
    "    gamma=0.2\n",
    ")"
   ]
  },
  {
   "cell_type": "code",
   "execution_count": 53,
   "metadata": {},
   "outputs": [],
   "source": [
    "protected_classifier = KerasClassifier(\n",
    "    model = vulnerable_model,\n",
    "    clip_values=(0, 1),\n",
    "    postprocessing_defences=postprocessor\n",
    ")"
   ]
  },
  {
   "cell_type": "code",
   "execution_count": 54,
   "metadata": {},
   "outputs": [],
   "source": [
    "model_stolen_protected = KerasClassifier(\n",
    "    model=create_blank_model(),\n",
    "    clip_values=(0, 1)\n",
    "    )"
   ]
  },
  {
   "cell_type": "code",
   "execution_count": 55,
   "metadata": {},
   "outputs": [],
   "source": [
    "copycat_cnn_protected = CopycatCNN(\n",
    "    batch_size_fit=256,\n",
    "    batch_size_query=256,\n",
    "    nb_epochs=20,\n",
    "    nb_stolen=len(train_images_stolen),\n",
    "    classifier=protected_classifier\n",
    ")"
   ]
  },
  {
   "cell_type": "code",
   "execution_count": 56,
   "metadata": {},
   "outputs": [
    {
     "name": "stdout",
     "output_type": "stream",
     "text": [
      "Train on 1868 samples\n",
      "Epoch 1/20\n",
      "1868/1868 [==============================] - 27s 14ms/sample - loss: 11.5680 - accuracy: 0.2404\n",
      "Epoch 2/20\n",
      "1868/1868 [==============================] - 26s 14ms/sample - loss: 6.4266 - accuracy: 0.2270\n",
      "Epoch 3/20\n",
      "1868/1868 [==============================] - 26s 14ms/sample - loss: 2.3252 - accuracy: 0.3913\n",
      "Epoch 4/20\n",
      "1868/1868 [==============================] - 27s 14ms/sample - loss: 1.4011 - accuracy: 0.6247\n",
      "Epoch 5/20\n",
      "1868/1868 [==============================] - 26s 14ms/sample - loss: 0.9430 - accuracy: 0.7232\n",
      "Epoch 6/20\n",
      "1868/1868 [==============================] - 22s 12ms/sample - loss: 0.7023 - accuracy: 0.8089\n",
      "Epoch 7/20\n",
      "1868/1868 [==============================] - 26s 14ms/sample - loss: 0.5729 - accuracy: 0.8132\n",
      "Epoch 8/20\n",
      "1868/1868 [==============================] - 23s 12ms/sample - loss: 0.4631 - accuracy: 0.8640\n",
      "Epoch 9/20\n",
      "1868/1868 [==============================] - 23s 12ms/sample - loss: 0.3821 - accuracy: 0.8849\n",
      "Epoch 10/20\n",
      "1868/1868 [==============================] - 22s 12ms/sample - loss: 0.3336 - accuracy: 0.8951\n",
      "Epoch 11/20\n",
      "1868/1868 [==============================] - 23s 12ms/sample - loss: 0.2984 - accuracy: 0.9154\n",
      "Epoch 12/20\n",
      "1868/1868 [==============================] - 26s 14ms/sample - loss: 0.2654 - accuracy: 0.9202\n",
      "Epoch 13/20\n",
      "1868/1868 [==============================] - 26s 14ms/sample - loss: 0.2372 - accuracy: 0.9363\n",
      "Epoch 14/20\n",
      "1868/1868 [==============================] - 23s 12ms/sample - loss: 0.2162 - accuracy: 0.9293\n",
      "Epoch 15/20\n",
      "1868/1868 [==============================] - 23s 12ms/sample - loss: 0.1954 - accuracy: 0.9513\n",
      "Epoch 16/20\n",
      "1868/1868 [==============================] - 23s 12ms/sample - loss: 0.1834 - accuracy: 0.9416\n",
      "Epoch 17/20\n",
      "1868/1868 [==============================] - 25s 14ms/sample - loss: 0.1645 - accuracy: 0.9507\n",
      "Epoch 18/20\n",
      "1868/1868 [==============================] - 24s 13ms/sample - loss: 0.1489 - accuracy: 0.9625\n",
      "Epoch 19/20\n",
      "1868/1868 [==============================] - 23s 12ms/sample - loss: 0.1462 - accuracy: 0.9524\n",
      "Epoch 20/20\n",
      "1868/1868 [==============================] - 23s 13ms/sample - loss: 0.1369 - accuracy: 0.9524\n"
     ]
    }
   ],
   "source": [
    "classifier_stolen_protected = copycat_cnn_protected.extract(\n",
    "    x=X_test,\n",
    "    y=y_test,\n",
    "    thieved_classifier=model_stolen_protected\n",
    ")"
   ]
  },
  {
   "cell_type": "code",
   "execution_count": 57,
   "metadata": {},
   "outputs": [
    {
     "name": "stdout",
     "output_type": "stream",
     "text": [
      "Original test loss: 0.24 vs stolen test loss: 7.42\n",
      "Original test accuracy: 0.94 vs stolen test accuracy: 0.50\n"
     ]
    }
   ],
   "source": [
    "score_original = clasificador._model.evaluate(\n",
    "    x=X_test, \n",
    "    y=y_test\n",
    "    )\n",
    "\n",
    "# Testing the performance of the stolen classifier\n",
    "score_stolen = classifier_stolen_protected._model.evaluate(\n",
    "    x=X_test, \n",
    "    y=y_test\n",
    "    )\n",
    "\n",
    "# Comparing test losses\n",
    "print(f\"Original test loss: {score_original[0]:.2f} \" \n",
    "      f\"vs stolen test loss: {score_stolen[0]:.2f}\")\n",
    "\n",
    "# Comparing test accuracies\n",
    "print(f\"Original test accuracy: {score_original[1]:.2f} \" \n",
    "      f\"vs stolen test accuracy: {score_stolen[1]:.2f}\")"
   ]
  }
 ],
 "metadata": {
  "kernelspec": {
   "display_name": "Python 3",
   "language": "python",
   "name": "python3"
  },
  "language_info": {
   "codemirror_mode": {
    "name": "ipython",
    "version": 3
   },
   "file_extension": ".py",
   "mimetype": "text/x-python",
   "name": "python",
   "nbconvert_exporter": "python",
   "pygments_lexer": "ipython3",
   "version": "3.8.0"
  },
  "orig_nbformat": 4
 },
 "nbformat": 4,
 "nbformat_minor": 2
}
